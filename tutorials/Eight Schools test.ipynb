{
 "cells": [
  {
   "cell_type": "code",
   "execution_count": 1,
   "metadata": {
    "collapsed": true
   },
   "outputs": [],
   "source": [
    "%matplotlib inline\n",
    "from __future__ import absolute_import\n",
    "from __future__ import division\n",
    "from __future__ import print_function\n",
    "\n",
    "import edward as ed\n",
    "import matplotlib.pyplot as plt\n",
    "import matplotlib.cm as cm\n",
    "import numpy as np\n",
    "import six\n",
    "import tensorflow as tf\n",
    "\n",
    "from edward.models import Empirical, InverseGamma, Normal\n",
    "\n",
    "plt.style.use('ggplot')"
   ]
  },
  {
   "cell_type": "code",
   "execution_count": 4,
   "metadata": {},
   "outputs": [],
   "source": [
    "def multilevel( J, sigma, mu0 = 10, eta_tau0 = 1 ):\n",
    "   mu    = Normal( loc = tf.zeros( 1 ), scale = mu0*tf.ones( 1 ) )\n",
    "   eta   = Normal( loc = tf.zeros( J ), scale = eta_tau0*tf.ones( J ) )\n",
    "   tau   = InverseGamma( concentration = tf.ones( 1 ), rate = tf.ones( 1 ))\n",
    "   theta = mu + tf.multiply( tau, eta )\n",
    "   y     = Normal( loc = theta, scale = tf.cast( sigma, tf.float32 ) )\n",
    "   return {'y': y, 'mu': mu, 'eta': eta, 'tau': tau, 'theta': theta }\n"
   ]
  },
  {
   "cell_type": "code",
   "execution_count": 5,
   "metadata": {
    "collapsed": true
   },
   "outputs": [],
   "source": [
    "schools_dat = dict(\n",
    "   mu0      = 10,\n",
    "   eta_tau0 = 1.0,\n",
    "   J        = 8,\n",
    "   y        = [28,  8, -3,  7, -1,  1, 18, 12],\n",
    "   sigma    = [15, 10, 16, 11,  9, 11, 10, 18]\n",
    ")"
   ]
  },
  {
   "cell_type": "code",
   "execution_count": 6,
   "metadata": {},
   "outputs": [],
   "source": [
    "def multilevel_sghmc ( J, mu0, eta_tau0, MCMC_samples = 1000  ):\n",
    "   q_mu = Empirical( params = tf.Variable(tf.random_normal(shape = [MCMC_samples, 1],mean=mu0,stddev=20)) )\n",
    "   q_eta = Empirical( tf.Variable(tf.random_normal(shape = [MCMC_samples, J], stddev = eta_tau0*tf.ones( [MCMC_samples, J] ) )) )\n",
    "   q_tau = Empirical( tf.Variable(1.0/tf.random_gamma(shape = [MCMC_samples,1],alpha=1.0,beta=1.0)) )\n",
    "   return {'q_mu': q_mu, 'q_eta': q_eta, 'q_tau': q_tau}\n"
   ]
  },
  {
   "cell_type": "code",
   "execution_count": 8,
   "metadata": {},
   "outputs": [],
   "source": [
    "y_model =  multilevel( J = schools_dat['J'], sigma = schools_dat['sigma'], mu0 = schools_dat['mu0'], eta_tau0 = schools_dat['eta_tau0']  )\n"
   ]
  },
  {
   "cell_type": "code",
   "execution_count": 9,
   "metadata": {},
   "outputs": [
    {
     "name": "stdout",
     "output_type": "stream",
     "text": [
      "{'y': <ed.RandomVariable 'Normal_8/' shape=(8,) dtype=float32>, 'mu': <ed.RandomVariable 'Normal_2/' shape=(1,) dtype=float32>, 'eta': <ed.RandomVariable 'Normal_5/' shape=(8,) dtype=float32>, 'tau': <ed.RandomVariable 'InverseGamma_2/' shape=(1,) dtype=float32>, 'theta': <tf.Tensor 'Add:0' shape=(8,) dtype=float32>}\n"
     ]
    }
   ],
   "source": [
    "print(y_model)"
   ]
  },
  {
   "cell_type": "code",
   "execution_count": 10,
   "metadata": {},
   "outputs": [],
   "source": [
    "N_samples = 10000\n",
    "q_vars = multilevel_sghmc( schools_dat['J'], mu0 = schools_dat['mu0'], eta_tau0 = schools_dat['eta_tau0'],MCMC_samples = N_samples  )"
   ]
  },
  {
   "cell_type": "code",
   "execution_count": 11,
   "metadata": {},
   "outputs": [
    {
     "name": "stdout",
     "output_type": "stream",
     "text": [
      "{'q_mu': <ed.RandomVariable 'Empirical_2/' shape=(1,) dtype=float32>, 'q_eta': <ed.RandomVariable 'Empirical_5/' shape=(8,) dtype=float32>, 'q_tau': <ed.RandomVariable 'Empirical_8/' shape=(1,) dtype=float32>}\n"
     ]
    }
   ],
   "source": [
    "print(q_vars)"
   ]
  },
  {
   "cell_type": "code",
   "execution_count": 12,
   "metadata": {},
   "outputs": [],
   "source": [
    "sess = ed.get_session()\n",
    "tf.global_variables_initializer().run( )\n",
    "\n",
    "# Stochastic Gradient Hamiltonian Monte Carlo\n",
    "inference = ed.SGHMC(\n",
    "    {y_model['mu']: q_vars['q_mu'], y_model['eta']: q_vars['q_eta'], y_model['tau']: q_vars['q_tau'] },\n",
    "    data ={y_model['y']: tf.cast( schools_dat['y'], tf.float32).eval()}\n",
    ")\n",
    "inference.initialize()\n"
   ]
  },
  {
   "cell_type": "code",
   "execution_count": 13,
   "metadata": {},
   "outputs": [
    {
     "name": "stdout",
     "output_type": "stream",
     "text": [
      "10000/10000 [100%] ██████████████████████████████ Elapsed: 6s | Acceptance Rate: 1.000\n"
     ]
    }
   ],
   "source": [
    "inference.run( n_iter = N_samples, n_print = 100 )"
   ]
  },
  {
   "cell_type": "code",
   "execution_count": 14,
   "metadata": {},
   "outputs": [
    {
     "data": {
      "image/png": "[encoded data removed]",
      "text/plain": [
       "<matplotlib.figure.Figure at 0x14a8bf774a8>"
      ]
     },
     "metadata": {},
     "output_type": "display_data"
    }
   ],
   "source": [
    "plt.hist(q_vars['q_mu'].sample(1000).eval(),bins=30)\n",
    "plt.title(\"Histogram of $\\mu$\")\n",
    "plt.show()"
   ]
  },
  {
   "cell_type": "code",
   "execution_count": 15,
   "metadata": {
    "scrolled": true
   },
   "outputs": [
    {
     "data": {
      "image/png": "[encoded data removed]",
      "text/plain": [
       "<matplotlib.figure.Figure at 0x14a8bc55b38>"
      ]
     },
     "metadata": {},
     "output_type": "display_data"
    }
   ],
   "source": [
    "plt.hist(q_vars['q_tau'].sample(1000).eval(),bins=30)\n",
    "plt.title(\"Histogram of tau\")\n",
    "plt.show()"
   ]
  },
  {
   "cell_type": "code",
   "execution_count": 16,
   "metadata": {},
   "outputs": [
    {
     "name": "stdout",
     "output_type": "stream",
     "text": [
      "[  7.61578894   9.12781334   9.66191196  19.25716209   8.55209923\n",
      "  12.43373489  10.46726227  14.87581158]\n"
     ]
    }
   ],
   "source": [
    "theta_sample = q_vars['q_mu'].sample(1000) + q_vars['q_tau'].sample(1000)*q_vars['q_eta'].sample(1000)\n",
    "\n",
    "theta_post   = tf.reduce_mean(theta_sample,0).eval()\n",
    "print( theta_post )"
   ]
  },
  {
   "cell_type": "code",
   "execution_count": null,
   "metadata": {
    "collapsed": true
   },
   "outputs": [],
   "source": [
    "sess.close()"
   ]
  },
  {
   "cell_type": "code",
   "execution_count": 17,
   "metadata": {},
   "outputs": [
    {
     "name": "stdout",
     "output_type": "stream",
     "text": [
      "{'mu0': 10, 'eta_tau0': 1.0, 'J': 8, 'y': [28, 8, -3, 7, -1, 1, 18, 12], 'sigma': [15, 10, 16, 11, 9, 11, 10, 18]}\n"
     ]
    }
   ],
   "source": [
    "print( schools_dat )"
   ]
  }
 ],
 "metadata": {
  "kernelspec": {
   "display_name": "Python 3",
   "language": "python",
   "name": "python3"
  },
  "language_info": {
   "codemirror_mode": {
    "name": "ipython",
    "version": 3
   },
   "file_extension": ".py",
   "mimetype": "text/x-python",
   "name": "python",
   "nbconvert_exporter": "python",
   "pygments_lexer": "ipython3",
   "version": "3.6.2"
  }
 },
 "nbformat": 4,
 "nbformat_minor": 2
}
